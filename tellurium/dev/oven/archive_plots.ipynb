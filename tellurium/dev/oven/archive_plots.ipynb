{
 "cells": [
  {
   "cell_type": "markdown",
   "metadata": {},
   "source": [
    "# Combine Archives \n",
    "\n",
    "jupyter notebook --NotebookApp.iopub_data_rate_limit=10000000000"
   ]
  },
  {
   "cell_type": "code",
   "execution_count": 1,
   "metadata": {
    "scrolled": false
   },
   "outputs": [
    {
     "data": {
      "text/html": [
       "<script>requirejs.config({paths: { 'plotly': ['https://cdn.plot.ly/plotly-latest.min']},});if(!window.Plotly) {{require(['plotly'],function(plotly) {window.Plotly=plotly;});}}</script>"
      ],
      "text/vnd.plotly.v1+html": [
       "<script>requirejs.config({paths: { 'plotly': ['https://cdn.plot.ly/plotly-latest.min']},});if(!window.Plotly) {{require(['plotly'],function(plotly) {window.Plotly=plotly;});}}</script>"
      ]
     },
     "metadata": {},
     "output_type": "display_data"
    },
    {
     "name": "stdout",
     "output_type": "stream",
     "text": [
      "\"\"\"\n",
      "####################################################################################################\n",
      "                            tellurium 2.0.2\n",
      "-+++++++++++++++++-         Python Environment for Modeling and Simulating Biological Systems\n",
      " .+++++++++++++++.\n",
      "  .+++++++++++++.           Homepage:      http://tellurium.analogmachine.org/\n",
      "-//++++++++++++/.   -:/-`   Documentation: https://tellurium.readthedocs.io/en/latest/index.html\n",
      ".----:+++++++/.++  .++++/   Forum:         https://groups.google.com/forum/#!forum/tellurium-discuss\n",
      "      :+++++:  .+:` .--++   Bug reports:   https://github.com/sys-bio/tellurium/issues\n",
      "       -+++-    ./+:-://.   Repository:    https://github.com/sys-bio/tellurium\n",
      "        .+.       `...`\n",
      "\n",
      "SED-ML simulation experiments: http://www.sed-ml.org/\n",
      "    sedmlDoc: L1V3  \n",
      "    inputType:      'SEDML_FILE'\n",
      "    workingDir:     '/tmp/tmp28bgsq9i'\n",
      "    saveOutputs:    'True'\n",
      "    outputDir:      './__tellurium__'\n",
      "    plottingEngine: '<MatplotlibEngine>'\n",
      "\n",
      "Linux-4.10.0-35-generic-x86_64-with-Ubuntu-16.04-xenial\n",
      "python 3.6.2 (default, Jul 20 2017, 08:43:29) \n",
      "[GCC 5.4.1 20170519]\n",
      "####################################################################################################\n",
      "\"\"\"\n",
      "import tellurium as te\n",
      "from roadrunner import Config\n",
      "from tellurium.sedml.mathml import *\n",
      "# from tellurium.sedml.tesedml import process_trace, terminate_trace, fix_endpoints\n",
      "\n",
      "import numpy as np\n",
      "import matplotlib.pyplot as plt\n",
      "import mpl_toolkits.mplot3d\n",
      "try:\n",
      "    import tesedml as libsedml\n",
      "except ImportError:\n",
      "    import libsedml\n",
      "import pandas\n",
      "import os.path\n",
      "Config.LOADSBMLOPTIONS_RECOMPILE = True\n",
      "\n",
      "workingDir = r'/tmp/tmp28bgsq9i'\n",
      "\n",
      "# --------------------------------------------------------\n",
      "# Models\n",
      "# --------------------------------------------------------\n",
      "# Model <model1>\n",
      "model1 = te.loadSBMLModel(os.path.join(workingDir, 'BorisEJB.xml'))\n",
      "\n",
      "\n",
      "\n",
      "\n",
      "# --------------------------------------------------------\n",
      "# Tasks\n",
      "# --------------------------------------------------------\n",
      "# Task <task0>\n",
      "# not part of any DataGenerator: task0\n",
      "# Task <task1>\n",
      "\n",
      "task1 = []\n",
      "__range__current = [1.0, 5.0, 10.0, 50.0, 60.0, 70.0, 80.0, 90.0, 100.0]\n",
      "for __k__current, __value__current in enumerate(__range__current):\n",
      "    if __k__current == 0:\n",
      "        model1.reset()\n",
      "    \n",
      "    task2 = []\n",
      "    __range__current1 = np.linspace(start=1.0, stop=40.0, num=101)\n",
      "    for __k__current1, __value__current1 in enumerate(__range__current1):\n",
      "        if __k__current1 == 0:\n",
      "            model1.reset()\n",
      "        # Task: <task0>\n",
      "        task0 = [None]\n",
      "        model1.setSteadyStateSolver('nleq')\n",
      "        if model1.conservedMoietyAnalysis == False: model1.conservedMoietyAnalysis = True\n",
      "        model1['J1_KK2'] = __value__current\n",
      "        model1['J4_KK5'] = __value__current1\n",
      "        model1.steadyStateSelections = ['J1_KK2', 'J4_KK5', '[MKK]', '[MKK_PP]', '[MKK_P]']\n",
      "        model1.simulate()\n",
      "        task0[0] = model1.steadyStateNamedArray()\n",
      "\n",
      "        task2.extend(task0)\n",
      "\n",
      "    task1.extend(task2)\n",
      "# Task <task2>\n",
      "# not part of any DataGenerator: task2\n",
      "\n",
      "####################################################################################################\n"
     ]
    },
    {
     "ename": "KeyError",
     "evalue": "'J4_KK5_1'",
     "output_type": "error",
     "traceback": [
      "\u001b[0;31m---------------------------------------------------------------------------\u001b[0m",
      "\u001b[0;31mKeyError\u001b[0m                                  Traceback (most recent call last)",
      "\u001b[0;32m<ipython-input-1-a11f3de60387>\u001b[0m in \u001b[0;36m<module>\u001b[0;34m()\u001b[0m\n\u001b[1;32m     23\u001b[0m         \u001b[0mdgs\u001b[0m \u001b[0;34m=\u001b[0m \u001b[0mtellurium\u001b[0m\u001b[0;34m.\u001b[0m\u001b[0mexecuteCombineArchive\u001b[0m\u001b[0;34m(\u001b[0m\u001b[0mf\u001b[0m\u001b[0;34m,\u001b[0m \u001b[0mprintPython\u001b[0m\u001b[0;34m=\u001b[0m\u001b[0;32mFalse\u001b[0m\u001b[0;34m,\u001b[0m \u001b[0moutputDir\u001b[0m\u001b[0;34m=\u001b[0m\u001b[0moutputDir\u001b[0m\u001b[0;34m,\u001b[0m \u001b[0msaveOutputs\u001b[0m\u001b[0;34m=\u001b[0m\u001b[0;32mTrue\u001b[0m\u001b[0;34m)\u001b[0m\u001b[0;34m\u001b[0m\u001b[0m\n\u001b[1;32m     24\u001b[0m \u001b[0;34m\u001b[0m\u001b[0m\n\u001b[0;32m---> 25\u001b[0;31m \u001b[0mdgs\u001b[0m \u001b[0;34m=\u001b[0m \u001b[0mtellurium\u001b[0m\u001b[0;34m.\u001b[0m\u001b[0mexecuteCombineArchive\u001b[0m\u001b[0;34m(\u001b[0m\u001b[0;34m\"./omex/L1V3_parameter-scan-2d.omex\"\u001b[0m\u001b[0;34m,\u001b[0m \u001b[0mprintPython\u001b[0m\u001b[0;34m=\u001b[0m\u001b[0;32mTrue\u001b[0m\u001b[0;34m,\u001b[0m \u001b[0moutputDir\u001b[0m\u001b[0;34m=\u001b[0m\u001b[0moutputDir\u001b[0m\u001b[0;34m,\u001b[0m \u001b[0msaveOutputs\u001b[0m\u001b[0;34m=\u001b[0m\u001b[0;32mTrue\u001b[0m\u001b[0;34m)\u001b[0m\u001b[0;34m\u001b[0m\u001b[0m\n\u001b[0m",
      "\u001b[0;32m~/git/tellurium/tellurium/sedml/tesedml.py\u001b[0m in \u001b[0;36mexecuteCombineArchive\u001b[0;34m(omexPath, workingDir, printPython, createOutputs, saveOutputs, outputDir, plottingEngine)\u001b[0m\n\u001b[1;32m    353\u001b[0m                     \u001b[0mprint\u001b[0m\u001b[0;34m(\u001b[0m\u001b[0mcode\u001b[0m\u001b[0;34m)\u001b[0m\u001b[0;34m\u001b[0m\u001b[0m\n\u001b[1;32m    354\u001b[0m \u001b[0;34m\u001b[0m\u001b[0m\n\u001b[0;32m--> 355\u001b[0;31m                 \u001b[0mresults\u001b[0m\u001b[0;34m[\u001b[0m\u001b[0msedmlFile\u001b[0m\u001b[0;34m]\u001b[0m \u001b[0;34m=\u001b[0m \u001b[0mfactory\u001b[0m\u001b[0;34m.\u001b[0m\u001b[0mexecutePython\u001b[0m\u001b[0;34m(\u001b[0m\u001b[0;34m)\u001b[0m\u001b[0;34m\u001b[0m\u001b[0m\n\u001b[0m\u001b[1;32m    356\u001b[0m \u001b[0;34m\u001b[0m\u001b[0m\n\u001b[1;32m    357\u001b[0m             \u001b[0;32mreturn\u001b[0m \u001b[0mresults\u001b[0m\u001b[0;34m\u001b[0m\u001b[0m\n",
      "\u001b[0;32m~/git/tellurium/tellurium/sedml/tesedml.py\u001b[0m in \u001b[0;36mexecutePython\u001b[0;34m(self)\u001b[0m\n\u001b[1;32m    509\u001b[0m             \u001b[0;32mfor\u001b[0m \u001b[0mdg\u001b[0m \u001b[0;32min\u001b[0m \u001b[0mself\u001b[0m\u001b[0;34m.\u001b[0m\u001b[0mdoc\u001b[0m\u001b[0;34m.\u001b[0m\u001b[0mgetListOfDataGenerators\u001b[0m\u001b[0;34m(\u001b[0m\u001b[0;34m)\u001b[0m\u001b[0;34m:\u001b[0m\u001b[0;34m\u001b[0m\u001b[0m\n\u001b[1;32m    510\u001b[0m                 \u001b[0mdg_id\u001b[0m \u001b[0;34m=\u001b[0m \u001b[0mdg\u001b[0m\u001b[0;34m.\u001b[0m\u001b[0mgetId\u001b[0m\u001b[0;34m(\u001b[0m\u001b[0;34m)\u001b[0m\u001b[0;34m\u001b[0m\u001b[0m\n\u001b[0;32m--> 511\u001b[0;31m                 \u001b[0mdg_data\u001b[0m\u001b[0;34m[\u001b[0m\u001b[0mdg_id\u001b[0m\u001b[0;34m]\u001b[0m \u001b[0;34m=\u001b[0m \u001b[0msymbols\u001b[0m\u001b[0;34m[\u001b[0m\u001b[0mdg_id\u001b[0m\u001b[0;34m]\u001b[0m\u001b[0;34m\u001b[0m\u001b[0m\n\u001b[0m\u001b[1;32m    512\u001b[0m             \u001b[0mresult\u001b[0m\u001b[0;34m[\u001b[0m\u001b[0;34m'dataGenerators'\u001b[0m\u001b[0;34m]\u001b[0m \u001b[0;34m=\u001b[0m \u001b[0mdg_data\u001b[0m\u001b[0;34m\u001b[0m\u001b[0m\n\u001b[1;32m    513\u001b[0m             \u001b[0;32mreturn\u001b[0m \u001b[0mresult\u001b[0m\u001b[0;34m\u001b[0m\u001b[0m\n",
      "\u001b[0;31mKeyError\u001b[0m: 'J4_KK5_1'"
     ]
    }
   ],
   "source": [
    "from __future__ import print_function\n",
    "import os\n",
    "import importlib\n",
    "import tellurium\n",
    "import matplotlib\n",
    "\n",
    "tellurium.setDefaultPlottingEngine(\"matplotlib\")\n",
    "# tellurium.setDefaultPlottingEngine(\"plotly\")\n",
    "\n",
    "outputDir = \"./__tellurium__\"\n",
    "if not os.path.exists(outputDir):\n",
    "    os.makedirs(outputDir)\n",
    "\n",
    "omex_dir = \"./omex\"\n",
    "archives = [f for f in os.listdir(omex_dir) if os.path.isfile(os.path.join(omex_dir, f))]\n",
    "f_archives = [os.path.join(omex_dir, archive) for archive in archives]\n",
    "\n",
    "if False:\n",
    "    for f in f_archives:\n",
    "        print(\"*\" * 80)\n",
    "        print(f)\n",
    "        print(\"*\" * 80)\n",
    "        dgs = tellurium.executeCombineArchive(f, printPython=False, outputDir=outputDir, saveOutputs=True)\n",
    "    \n",
    "dgs = tellurium.executeCombineArchive(\"./omex/L1V3_parameter-scan-2d.omex\", printPython=True, outputDir=outputDir, saveOutputs=True)"
   ]
  },
  {
   "cell_type": "code",
   "execution_count": null,
   "metadata": {
    "collapsed": true,
    "scrolled": true
   },
   "outputs": [],
   "source": []
  }
 ],
 "metadata": {
  "kernelspec": {
   "display_name": "tellurium",
   "language": "python",
   "name": "tellurium"
  },
  "language_info": {
   "codemirror_mode": {
    "name": "ipython",
    "version": 3
   },
   "file_extension": ".py",
   "mimetype": "text/x-python",
   "name": "python",
   "nbconvert_exporter": "python",
   "pygments_lexer": "ipython3",
   "version": "3.6.2"
  }
 },
 "nbformat": 4,
 "nbformat_minor": 2
}
