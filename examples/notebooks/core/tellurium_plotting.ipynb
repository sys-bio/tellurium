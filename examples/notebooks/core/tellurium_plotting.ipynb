{
 "cells": [
  {
   "cell_type": "markdown",
   "source": [
    "Back to the main [Index](../index.ipynb)"
   ],
   "metadata": {}
  },
  {
   "cell_type": "markdown",
   "source": [
    "## Add plot elements\n",
    "\n",
    "Example showing how to embelish a graph - change title, axes labels, set axis limit. Example also uses an event to pulse S1.\n"
   ],
   "metadata": {}
  },
  {
   "cell_type": "code",
   "source": [
    "import tellurium as te, roadrunner\n",
    "    \n",
    "r = te.loada ('''\n",
    "   $Xo -> S1; k1*Xo;\n",
    "   S1 -> $X1; k2*S1;\n",
    "\n",
    "   k1 = 0.2; k2 = 0.4; Xo = 1; S1 = 0.5;\n",
    "   at (time > 20): S1 = S1 + 0.35\n",
    "''')\n",
    "    \n",
    "# Simulate the first part up to 20 time units\n",
    "m = r.simulate (0, 50, 100, [\"time\", \"S1\"])\n",
    "# using latex syntax to render math\n",
    "r.plot(m, ylim=(0.,1.), xlabel='Time', ylabel='Concentration', title='My First Plot ($y = x^2$)')"
   ],
   "outputs": [],
   "execution_count": 13,
   "metadata": {
    "collapsed": false,
    "outputHidden": false,
    "inputHidden": false
   }
  },
  {
   "cell_type": "markdown",
   "source": [
    "## Saving plots\n",
    "\n",
    "To save a plot, use ``r.plot`` and the ``savefig`` parameter. Use ``dpi`` to specify image quality. Pass in the save location along with the image name.\n"
   ],
   "metadata": {}
  },
  {
   "cell_type": "code",
   "source": [
    "import tellurium as te\n",
    "import os\n",
    "\n",
    "r = te.loada('S1 -> S2; k1*S1; k1 = 0.1; S1 = 10')\n",
    "result = r.simulate(0, 50, 100)\n",
    "currentDir = os.getcwd() # gets the current directory\n",
    "\n",
    "r.plot(title='My plot', xlabel='Time', ylabel='Concentration', dpi=150,\n",
    "       savefig=currentDir + '\\\\test.png')  # save image to current directory as \"test.png\"\n"
   ],
   "outputs": [],
   "execution_count": 12,
   "metadata": {
    "collapsed": false,
    "outputHidden": false,
    "inputHidden": false
   }
  },
  {
   "cell_type": "markdown",
   "source": [
    "The path can be specified as a written out string. The plot can also be saved as a pdf instead of png.\n",
    "\n",
    "`savefig='C:\\\\Tellurium-Winpython-3.6\\\\settings\\\\.spyder-py3\\\\test.pdf'`\n"
   ],
   "metadata": {}
  },
  {
   "cell_type": "markdown",
   "source": [
    "## Logarithmic axis\n",
    "The axis scale can be adapted with the `xscale` and `yscale` settings."
   ],
   "metadata": {}
  },
  {
   "cell_type": "code",
   "source": [
    "import tellurium as te\n",
    "te.setDefaultPlottingEngine('matplotlib')\n",
    "%matplotlib inline\n",
    "\n",
    "r = te.loadTestModel('feedback.xml')\n",
    "r.integrator.variable_step_size = True\n",
    "s = r.simulate(0, 50)\n",
    "r.plot(s, logx=True, xlim=[10E-4, 10E2],\n",
    "      title=\"Logarithmic x-Axis with grid\", ylabel=\"concentration\");"
   ],
   "outputs": [],
   "execution_count": null,
   "metadata": {
    "collapsed": false,
    "outputHidden": false,
    "inputHidden": false
   }
  },
  {
   "cell_type": "markdown",
   "source": [
    "## Plotting multiple simulations\n",
    "\nAll plotting is done via the `r.plot` or `te.plotArray` functions. To plot multiple curves in one figure use the `show=False` setting."
   ],
   "metadata": {}
  },
  {
   "cell_type": "code",
   "source": [
    "import tellurium as te\n",
    "te.setDefaultPlottingEngine('matplotlib')\n",
    "%matplotlib inline\n",
    "import numpy as np\n",
    "import matplotlib.pylab as plt\n",
    "\n",
    "# Load a model and carry out a simulation generating 100 points\n",
    "r = te.loada ('S1 -> S2; k1*S1; k1 = 0.1; S1 = 10')\n",
    "r.draw(width=100)\n",
    "\n",
    "# get colormap\n",
    "# Colormap instances are used to convert data values (floats) from the interval [0, 1]\n",
    "cmap = plt.get_cmap('Blues')\n",
    "\n",
    "k1_values = np.linspace(start=0.1, stop=1.5, num=15)\n",
    "max_k1 = max(k1_values)\n",
    "for k, value in enumerate(k1_values):\n",
    "    r.reset()\n",
    "    r.k1 = value\n",
    "    s = r.simulate(0, 30, 100)\n",
    "    \n",
    "    color = cmap((value+max_k1)/(2*max_k1))\n",
    "    # use show=False to plot multiple curves in the same figure\n",
    "    r.plot(s, show=False, title=\"Parameter variation k1\", xlabel=\"time\", ylabel=\"concentration\",\n",
    "          xlim=[-1, 31], ylim=[-0.1, 11])\n",
    "\n",
    "te.show()\n",
    "\n",
    "print('Reference Simulation: k1 = {}'.format(r.k1))\n",
    "print('Parameter variation: k1 = {}'.format(k1_values))"
   ],
   "outputs": [],
   "execution_count": 4,
   "metadata": {
    "collapsed": false
   }
  },
  {
   "cell_type": "markdown",
   "source": [
    "## Using Tags and Names\n",
    "\nTags can be used to coordinate the color, opacity, and legend names between several sets of data. This can be used to highlight certain features that these datasets have in common. Names allow you to give a more meaningful description of the data in the legend."
   ],
   "metadata": {}
  },
  {
   "cell_type": "code",
   "source": [
    "import tellurium as te\n",
    "import numpy as np\n",
    "\n",
    "for i in range(1,10):\n",
    "    x = np.linspace(0, 10, num = 10)\n",
    "    y = i*x**2 + 10*i\n",
    "    if i % 2 == 0:\n",
    "        next_tag = \"positive slope\"\n",
    "    else:\n",
    "        next_tag = \"negative slope\"\n",
    "        y = -1*y\n",
    "    next_name = next_tag + \" (i = \" + str(i) + \")\"\n",
    "    te.plot(x, y, show = False, tag = next_tag, name = next_name)\n",
    "    \n",
    "te.show()"
   ],
   "outputs": [],
   "execution_count": 10,
   "metadata": {
    "collapsed": false,
    "outputHidden": false,
    "inputHidden": false
   }
  },
  {
   "cell_type": "markdown",
   "source": [
    "Note that only two items show up in the legend, one for each tag used. In this case, the name found in the legend will match the name of the last set of data plotted using that specific tag. The color and opacity for each tagged groups will also be chosen from the last dataset inputted with that given tag.\n"
   ],
   "metadata": {}
  },
  {
   "cell_type": "markdown",
   "source": [
    "## Subplots\n",
    "``te.plotArray`` can be used in conjunction with matplotlib functions to create subplots."
   ],
   "metadata": {}
  },
  {
   "cell_type": "code",
   "source": [
    "import tellurium as te\n",
    "import numpy as np\n",
    "import matplotlib.pylab as plt\n",
    "\n",
    "r = te.loada ('S1 -> S2; k1*S1; k1 = 0.1; S1 = 20')\n",
    "r.setIntegrator('gillespie')\n",
    "r.integrator.seed = '1234'\n",
    "kValues = np.linspace(0.1, 0.9, num=9) # generate k1 values\n",
    "plt.gcf().set_size_inches(10, 10) # size of figure\n",
    "plt.subplots_adjust(wspace=0.4, hspace=0.4) # adjust the space between subplots\n",
    "plt.suptitle('Variation in k1 value', fontsize=16) # main title\n",
    "for i in range(1, len(kValues) + 1):\n",
    "    r.k1 = kValues[i - 1]\n",
    "    # designates number of subplots (row, col) and spot to plot next\n",
    "    plt.subplot(3, 3, i)  \n",
    "    for j in range(1, 30):\n",
    "        r.reset()\n",
    "        s = r.simulate(0, 10)\n",
    "        t = \"k1 = \" + '{:.1f}'.format(kValues[i - 1])\n",
    "        # plot each subplot, use show=False to save multiple traces\n",
    "        te.plotArray(s, show=False, title=t, xlabel='Time', \n",
    "                     ylabel='Concentration', alpha=0.7)"
   ],
   "outputs": [],
   "execution_count": 5,
   "metadata": {
    "collapsed": false,
    "outputHidden": false,
    "inputHidden": false
   }
  },
  {
   "cell_type": "markdown",
   "source": [
    "## Draw diagram\n",
    "\nThis example shows how to draw a network diagram, [requires graphviz](http://tellurium.readthedocs.io/en/latest/notebooks.html#preliminaries)."
   ],
   "metadata": {}
  },
  {
   "cell_type": "code",
   "source": [
    "from __future__ import print_function\n",
    "import tellurium as te\n",
    "te.setDefaultPlottingEngine('matplotlib')\n",
    "%matplotlib inline\n",
    "\n",
    "r = te.loada('''\n",
    "model feedback()\n",
    "   // Reactions:http://localhost:8888/notebooks/core/tellurium_export.ipynb#\n",
    "   J0: $X0 -> S1; (VM1 * (X0 - S1/Keq1))/(1 + X0 + S1 +   S4^h);\n",
    "   J1: S1 -> S2; (10 * S1 - 2 * S2) / (1 + S1 + S2);\n",
    "   J2: S2 -> S3; (10 * S2 - 2 * S3) / (1 + S2 + S3);\n",
    "   J3: S3 -> S4; (10 * S3 - 2 * S4) / (1 + S3 + S4);\n",
    "   J4: S4 -> $X1; (V4 * S4) / (KS4 + S4);\n",
    "\n",
    "  // Species initializations:\n",
    "  S1 = 0; S2 = 0; S3 = 0;\n",
    "  S4 = 0; X0 = 10; X1 = 0;\n",
    "\n",
    "  // Variable initialization:\n",
    "  VM1 = 10; Keq1 = 10; h = 10; V4 = 2.5; KS4 = 0.5;\n",
    "end''')\n",
    "\n",
    "# simulate using variable step size\n",
    "r.integrator.setValue('variable_step_size', True)\n",
    "s = r.simulate(0, 50)\n",
    "# draw the diagram\n",
    "r.draw(width=200)\n",
    "# and the plot\n",
    "r.plot(s, title=\"Feedback Oscillations\", ylabel=\"concentration\", alpha=0.9);"
   ],
   "outputs": [],
   "execution_count": null,
   "metadata": {
    "collapsed": false,
    "outputHidden": false,
    "inputHidden": false
   }
  }
 ],
 "metadata": {
  "kernel_info": {
   "name": "python3"
  },
  "kernelspec": {
   "name": "python3",
   "language": "python",
   "display_name": "Python 3 (built-in)"
  },
  "language_info": {
   "name": "python",
   "version": "3.6.2",
   "mimetype": "text/x-python",
   "codemirror_mode": {
    "name": "ipython",
    "version": 3
   },
   "pygments_lexer": "ipython3",
   "nbconvert_exporter": "python",
   "file_extension": ".py"
  }
 },
 "nbformat": 4,
 "nbformat_minor": 0
}
